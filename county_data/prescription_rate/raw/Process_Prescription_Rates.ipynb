{
 "cells": [
  {
   "cell_type": "code",
   "execution_count": 2,
   "metadata": {},
   "outputs": [],
   "source": [
    "import sys\n",
    "sys.path.insert(1, '../../../TESTING')\n",
    "\n",
    "import county_library as CL\n",
    "import os\n",
    "\n",
    "def move_to_processed(filename):\n",
    "    current_path = '~/school/spring2020/cse4940/datasets/prescription_rates/raw/'\n",
    "    destination_path = '../processed/'\n",
    "    \n",
    "    os.rename(filename, destination_path+filename)\n"
   ]
  },
  {
   "cell_type": "code",
   "execution_count": 4,
   "metadata": {},
   "outputs": [],
   "source": [
    "os.remove('../processed/Prescriptions2009.csv')\n",
    "os.remove('../processed/Prescriptions2010.csv')\n",
    "os.remove('../processed/Prescriptions2011.csv')\n",
    "os.remove('../processed/Prescriptions2012.csv')\n",
    "os.remove('../processed/Prescriptions2013.csv')\n",
    "os.remove('../processed/Prescriptions2014.csv')\n",
    "os.remove('../processed/Prescriptions2015.csv')\n",
    "os.remove('../processed/Prescriptions2016.csv')"
   ]
  },
  {
   "cell_type": "markdown",
   "metadata": {},
   "source": [
    "# Process Files"
   ]
  },
  {
   "cell_type": "code",
   "execution_count": 5,
   "metadata": {},
   "outputs": [],
   "source": [
    "CL.process_raw_prescriptions('pres2009_raw.txt', '2009')\n",
    "CL.process_raw_prescriptions('pres2010_raw.txt', '2010')\n",
    "CL.process_raw_prescriptions('pres2011_raw.txt', '2011')\n",
    "CL.process_raw_prescriptions('pres2012_raw.txt', '2012')\n",
    "CL.process_raw_prescriptions('pres2013_raw.txt', '2013')\n",
    "CL.process_raw_prescriptions('pres2014_raw.txt', '2014')\n",
    "CL.process_raw_prescriptions('pres2015_raw.txt', '2015')\n",
    "CL.process_raw_prescriptions('pres2016_raw.txt', '2016')"
   ]
  },
  {
   "cell_type": "markdown",
   "metadata": {},
   "source": [
    "# Move Files"
   ]
  },
  {
   "cell_type": "code",
   "execution_count": 6,
   "metadata": {},
   "outputs": [],
   "source": [
    "move_to_processed('Prescriptions2009.csv')\n",
    "move_to_processed('Prescriptions2010.csv')\n",
    "move_to_processed('Prescriptions2011.csv')\n",
    "move_to_processed('Prescriptions2012.csv')\n",
    "move_to_processed('Prescriptions2013.csv')\n",
    "move_to_processed('Prescriptions2014.csv')\n",
    "move_to_processed('Prescriptions2015.csv')\n",
    "move_to_processed('Prescriptions2016.csv')"
   ]
  },
  {
   "cell_type": "code",
   "execution_count": null,
   "metadata": {},
   "outputs": [],
   "source": []
  }
 ],
 "metadata": {
  "kernelspec": {
   "display_name": "Python 3",
   "language": "python",
   "name": "python3"
  },
  "language_info": {
   "codemirror_mode": {
    "name": "ipython",
    "version": 3
   },
   "file_extension": ".py",
   "mimetype": "text/x-python",
   "name": "python",
   "nbconvert_exporter": "python",
   "pygments_lexer": "ipython3",
   "version": "3.7.6"
  }
 },
 "nbformat": 4,
 "nbformat_minor": 2
}
