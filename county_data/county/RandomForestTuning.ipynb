{
 "cells": [
  {
   "cell_type": "code",
   "execution_count": 4,
   "metadata": {},
   "outputs": [],
   "source": [
    "import pandas as pd\n",
    "import sys\n",
    "sys.path.insert(1, '../../TESTING/')\n",
    "\n",
    "import county_library as CL\n",
    "import county_stratification as CS"
   ]
  },
  {
   "cell_type": "markdown",
   "metadata": {},
   "source": [
    "# Functions"
   ]
  },
  {
   "cell_type": "code",
   "execution_count": 5,
   "metadata": {},
   "outputs": [],
   "source": [
    "def county_cleanup(county):\n",
    "    new_county = county.copy()\n",
    "    if 'Unnamed: 0' in new_county.columns:\n",
    "        new_county = new_county.drop(['Unnamed: 0'], axis=1)\n",
    "    if 'Unnamed: 0.1' in new_county.columns:\n",
    "        new_county = new_county.drop(['Unnamed: 0.1'], axis=1)\n",
    "        \n",
    "    return new_county\n",
    "\n",
    "def county_dict():\n",
    "    counties = CS.setup_data()\n",
    "    years = [str(i) for i in range(2009, 2019)]\n",
    "    \n",
    "    county_dict = {}\n",
    "    for i in range(len(counties)):\n",
    "        \n",
    "        county_dict[years[i]] = counties[i]\n",
    "        \n",
    "    return county_dict\n",
    "\n",
    "def normalize_all(X_train, X_test):\n",
    "    from sklearn.preprocessing import normalize\n",
    "\n",
    "    cols = X_train.columns\n",
    "\n",
    "    X_train_norm = normalize(X_train)\n",
    "    X_test_norm = normalize(X_test)\n",
    "\n",
    "    X_train = pd.DataFrame(data=X_train_norm, columns=cols.tolist())\n",
    "    X_test = pd.DataFrame(data=X_test_norm, columns=cols.tolist())\n",
    "    \n",
    "    return X_train, X_test\n",
    "\n",
    "def get_regression_results(reg, x_train, x_test, y_train, y_test):\n",
    "    reg.fit(x_train, y_train)\n",
    "    y_pred = reg.predict(x_test)\n",
    "    df = pd.DataFrame({'Actual': y_test, 'Predicted': y_pred})\n",
    "    return df\n",
    "\n",
    "def mse_frame(data_in, columns_in):\n",
    "    return pd.DataFrame(data=data_in, columns=columns_in)"
   ]
  },
  {
   "cell_type": "markdown",
   "metadata": {},
   "source": [
    "# Load Data"
   ]
  },
  {
   "cell_type": "markdown",
   "metadata": {},
   "source": [
    "# 2010-2012; 2013"
   ]
  },
  {
   "cell_type": "code",
   "execution_count": 6,
   "metadata": {},
   "outputs": [],
   "source": [
    "counties          = county_dict()\n",
    "train_counties    = [counties['2010'], counties['2011'], counties['2012']] \n",
    "test              =  county_cleanup(counties['2013'])   \n",
    "\n",
    "train = county_cleanup(CS.build_county(train_counties))\n",
    "fips = test['FIPS']"
   ]
  },
  {
   "cell_type": "markdown",
   "metadata": {},
   "source": [
    "# 2016-2017; 2018"
   ]
  },
  {
   "cell_type": "code",
   "execution_count": 17,
   "metadata": {},
   "outputs": [],
   "source": [
    "counties          = county_dict()\n",
    "train_counties    = [counties['2016'], counties['2017']] \n",
    "test              =  county_cleanup(counties['2018'])   \n",
    "\n",
    "train = county_cleanup(CS.build_county(train_counties))\n",
    "fips = test['FIPS']"
   ]
  },
  {
   "cell_type": "markdown",
   "metadata": {},
   "source": [
    "# Train/Test Split"
   ]
  },
  {
   "cell_type": "code",
   "execution_count": 18,
   "metadata": {},
   "outputs": [],
   "source": [
    "X_train = train.iloc[:, 1:-1]\n",
    "X_test  = test.iloc[:, 1:-1]\n",
    "y_train = train['Death Rate']\n",
    "y_test  = test['Death Rate']\n",
    "\n",
    "X_train, X_test = normalize_all(X_train, X_test)"
   ]
  },
  {
   "cell_type": "code",
   "execution_count": 19,
   "metadata": {},
   "outputs": [
    {
     "data": {
      "text/plain": [
       "671"
      ]
     },
     "execution_count": 19,
     "metadata": {},
     "output_type": "execute_result"
    }
   ],
   "source": [
    "len(y_test)"
   ]
  },
  {
   "cell_type": "markdown",
   "metadata": {},
   "source": [
    "# Prepare Random Forest Hyper Params"
   ]
  },
  {
   "cell_type": "code",
   "execution_count": 13,
   "metadata": {},
   "outputs": [],
   "source": [
    "from sklearn.ensemble import RandomForestRegressor\n",
    "from sklearn.linear_model import LinearRegression\n",
    "from sklearn.metrics import mean_squared_error"
   ]
  },
  {
   "cell_type": "code",
   "execution_count": 61,
   "metadata": {},
   "outputs": [],
   "source": [
    "estimators = [5, 10, 25, 50, 75, 100]\n",
    "max_feats  = ['auto', None, 'sqrt', 'log2', 0.9, 0.2]\n",
    "min_leaf = [8, 9, 10, 11, 12]"
   ]
  },
  {
   "cell_type": "code",
   "execution_count": 20,
   "metadata": {},
   "outputs": [],
   "source": [
    "mse_results = {}"
   ]
  },
  {
   "cell_type": "markdown",
   "metadata": {},
   "source": [
    "# Random Forest"
   ]
  },
  {
   "cell_type": "code",
   "execution_count": 21,
   "metadata": {},
   "outputs": [
    {
     "ename": "NameError",
     "evalue": "name 'estimators' is not defined",
     "output_type": "error",
     "traceback": [
      "\u001b[0;31m---------------------------------------------------------------------------\u001b[0m",
      "\u001b[0;31mNameError\u001b[0m                                 Traceback (most recent call last)",
      "\u001b[0;32m<ipython-input-21-ee1d56faaf15>\u001b[0m in \u001b[0;36m<module>\u001b[0;34m\u001b[0m\n\u001b[1;32m      1\u001b[0m \u001b[0;32mfor\u001b[0m \u001b[0miteration\u001b[0m \u001b[0;32min\u001b[0m \u001b[0mrange\u001b[0m\u001b[0;34m(\u001b[0m\u001b[0;36m5\u001b[0m\u001b[0;34m)\u001b[0m\u001b[0;34m:\u001b[0m\u001b[0;34m\u001b[0m\u001b[0;34m\u001b[0m\u001b[0m\n\u001b[0;32m----> 2\u001b[0;31m     \u001b[0;32mfor\u001b[0m \u001b[0mest\u001b[0m \u001b[0;32min\u001b[0m \u001b[0mestimators\u001b[0m\u001b[0;34m:\u001b[0m\u001b[0;34m\u001b[0m\u001b[0;34m\u001b[0m\u001b[0m\n\u001b[0m\u001b[1;32m      3\u001b[0m         \u001b[0;32mfor\u001b[0m \u001b[0mfeat\u001b[0m \u001b[0;32min\u001b[0m \u001b[0mmax_feats\u001b[0m\u001b[0;34m:\u001b[0m\u001b[0;34m\u001b[0m\u001b[0;34m\u001b[0m\u001b[0m\n\u001b[1;32m      4\u001b[0m             \u001b[0;32mfor\u001b[0m \u001b[0mleaf\u001b[0m \u001b[0;32min\u001b[0m \u001b[0mmin_leaf\u001b[0m\u001b[0;34m:\u001b[0m\u001b[0;34m\u001b[0m\u001b[0;34m\u001b[0m\u001b[0m\n\u001b[1;32m      5\u001b[0m                 \u001b[0mkey\u001b[0m \u001b[0;34m=\u001b[0m \u001b[0mstr\u001b[0m\u001b[0;34m(\u001b[0m\u001b[0mest\u001b[0m\u001b[0;34m)\u001b[0m \u001b[0;34m+\u001b[0m \u001b[0;34m','\u001b[0m \u001b[0;34m+\u001b[0m \u001b[0mstr\u001b[0m\u001b[0;34m(\u001b[0m\u001b[0mfeat\u001b[0m\u001b[0;34m)\u001b[0m \u001b[0;34m+\u001b[0m \u001b[0;34m','\u001b[0m \u001b[0;34m+\u001b[0m \u001b[0mstr\u001b[0m\u001b[0;34m(\u001b[0m\u001b[0mleaf\u001b[0m\u001b[0;34m)\u001b[0m\u001b[0;34m\u001b[0m\u001b[0;34m\u001b[0m\u001b[0m\n",
      "\u001b[0;31mNameError\u001b[0m: name 'estimators' is not defined"
     ]
    }
   ],
   "source": [
    "for iteration in range(5):\n",
    "    for est in estimators:\n",
    "        for feat in max_feats:\n",
    "            for leaf in min_leaf:\n",
    "                key = str(est) + ',' + str(feat) + ',' + str(leaf) \n",
    "                rf = RandomForestRegressor(n_estimators=est, max_features=feat, min_samples_leaf=leaf)\n",
    "                res = get_regression_results(rf, X_train, X_test, y_train, y_test)\n",
    "                mse_results[key] = mean_squared_error(res.iloc[:, 0].tolist(), res.iloc[:, 1].tolist())\n",
    "    minimum = min(mse_results.values())\n",
    "    for i in range(len(mse_results.values())):\n",
    "        if list(mse_results.values())[i] == minimum:\n",
    "            print(list(mse_results.keys())[i], minimum)\n",
    "            break"
   ]
  },
  {
   "cell_type": "markdown",
   "metadata": {},
   "source": [
    "# KNN"
   ]
  },
  {
   "cell_type": "code",
   "execution_count": 22,
   "metadata": {},
   "outputs": [],
   "source": [
    "from sklearn.neighbors import KNeighborsRegressor\n",
    "n = [i for i in range(1, 31)]\n",
    "w = ['uniform', 'distance']"
   ]
  },
  {
   "cell_type": "code",
   "execution_count": 23,
   "metadata": {},
   "outputs": [
    {
     "name": "stdout",
     "output_type": "stream",
     "text": [
      "18, uniform 166.35654838411435\n",
      "18, uniform 166.35654838411435\n",
      "18, uniform 166.35654838411435\n",
      "18, uniform 166.35654838411435\n",
      "18, uniform 166.35654838411435\n"
     ]
    }
   ],
   "source": [
    "for iteration in range(5):\n",
    "    for neighbor in n:\n",
    "        for weight in w:\n",
    "            key = str(neighbor) + ', ' + str(weight)\n",
    "            knn = KNeighborsRegressor(n_neighbors=neighbor, weights=weight)\n",
    "            res = get_regression_results(knn, X_train, X_test, y_train, y_test)\n",
    "            mse_results[key] = mean_squared_error(res.iloc[:, 0].tolist(), res.iloc[:, 1].tolist())\n",
    "    minimum = min(mse_results.values())\n",
    "    for i in range(len(mse_results.values())):\n",
    "        if list(mse_results.values())[i] == minimum:\n",
    "            print(list(mse_results.keys())[i], minimum)\n",
    "            break"
   ]
  },
  {
   "cell_type": "markdown",
   "metadata": {},
   "source": [
    "# RF 2018"
   ]
  },
  {
   "cell_type": "code",
   "execution_count": 42,
   "metadata": {},
   "outputs": [
    {
     "name": "stdout",
     "output_type": "stream",
     "text": [
      "75,0.2,8 157.9722244345081\n",
      "75,0.2,12 158.63857712370606\n",
      "25,0.2,11 157.6888858177801\n",
      "25,0.2,8 157.53779242974792\n",
      "25,0.2,11 158.38215640494371\n"
     ]
    }
   ],
   "source": [
    "for iteration in range(5):\n",
    "    for est in estimators:\n",
    "        for feat in max_feats:\n",
    "            for leaf in min_leaf:\n",
    "                key = str(est) + ',' + str(feat) + ',' + str(leaf) \n",
    "                rf = RandomForestRegressor(n_estimators=est, max_features=feat, min_samples_leaf=leaf)\n",
    "                res = get_regression_results(rf, X_train, X_test, y_train, y_test)\n",
    "                mse_results[key] = mean_squared_error(res.iloc[:, 0].tolist(), res.iloc[:, 1].tolist())\n",
    "    minimum = min(mse_results.values())\n",
    "    for i in range(len(mse_results.values())):\n",
    "        if list(mse_results.values())[i] == minimum:\n",
    "            print(list(mse_results.keys())[i], minimum)\n",
    "            break"
   ]
  },
  {
   "cell_type": "markdown",
   "metadata": {},
   "source": [
    "# Optimized 2013"
   ]
  },
  {
   "cell_type": "code",
   "execution_count": 72,
   "metadata": {},
   "outputs": [],
   "source": [
    "rf_optimal = RandomForestRegressor(n_estimators = 10, max_features=0.9, min_samples_leaf = 8)\n",
    "results2013 = get_regression_results(rf_optimal, X_train, X_test, y_train, y_test)\n",
    "results2013['FIPS'] = fips"
   ]
  },
  {
   "cell_type": "code",
   "execution_count": 73,
   "metadata": {},
   "outputs": [
    {
     "data": {
      "text/html": [
       "<div>\n",
       "<style scoped>\n",
       "    .dataframe tbody tr th:only-of-type {\n",
       "        vertical-align: middle;\n",
       "    }\n",
       "\n",
       "    .dataframe tbody tr th {\n",
       "        vertical-align: top;\n",
       "    }\n",
       "\n",
       "    .dataframe thead th {\n",
       "        text-align: right;\n",
       "    }\n",
       "</style>\n",
       "<table border=\"1\" class=\"dataframe\">\n",
       "  <thead>\n",
       "    <tr style=\"text-align: right;\">\n",
       "      <th></th>\n",
       "      <th>Actual</th>\n",
       "      <th>Predicted</th>\n",
       "      <th>FIPS</th>\n",
       "    </tr>\n",
       "  </thead>\n",
       "  <tbody>\n",
       "    <tr>\n",
       "      <th>0</th>\n",
       "      <td>8.49</td>\n",
       "      <td>11.848832</td>\n",
       "      <td>1073</td>\n",
       "    </tr>\n",
       "    <tr>\n",
       "      <th>1</th>\n",
       "      <td>4.83</td>\n",
       "      <td>14.762081</td>\n",
       "      <td>1097</td>\n",
       "    </tr>\n",
       "    <tr>\n",
       "      <th>2</th>\n",
       "      <td>11.30</td>\n",
       "      <td>6.805669</td>\n",
       "      <td>2020</td>\n",
       "    </tr>\n",
       "    <tr>\n",
       "      <th>3</th>\n",
       "      <td>7.72</td>\n",
       "      <td>10.059127</td>\n",
       "      <td>4003</td>\n",
       "    </tr>\n",
       "    <tr>\n",
       "      <th>4</th>\n",
       "      <td>5.11</td>\n",
       "      <td>9.309590</td>\n",
       "      <td>4013</td>\n",
       "    </tr>\n",
       "    <tr>\n",
       "      <th>5</th>\n",
       "      <td>22.66</td>\n",
       "      <td>16.036895</td>\n",
       "      <td>4015</td>\n",
       "    </tr>\n",
       "    <tr>\n",
       "      <th>6</th>\n",
       "      <td>15.15</td>\n",
       "      <td>10.891089</td>\n",
       "      <td>4019</td>\n",
       "    </tr>\n",
       "    <tr>\n",
       "      <th>7</th>\n",
       "      <td>6.93</td>\n",
       "      <td>6.146038</td>\n",
       "      <td>4021</td>\n",
       "    </tr>\n",
       "    <tr>\n",
       "      <th>8</th>\n",
       "      <td>4.65</td>\n",
       "      <td>11.999331</td>\n",
       "      <td>4025</td>\n",
       "    </tr>\n",
       "    <tr>\n",
       "      <th>9</th>\n",
       "      <td>6.13</td>\n",
       "      <td>11.617353</td>\n",
       "      <td>5119</td>\n",
       "    </tr>\n",
       "  </tbody>\n",
       "</table>\n",
       "</div>"
      ],
      "text/plain": [
       "   Actual  Predicted  FIPS\n",
       "0    8.49  11.848832  1073\n",
       "1    4.83  14.762081  1097\n",
       "2   11.30   6.805669  2020\n",
       "3    7.72  10.059127  4003\n",
       "4    5.11   9.309590  4013\n",
       "5   22.66  16.036895  4015\n",
       "6   15.15  10.891089  4019\n",
       "7    6.93   6.146038  4021\n",
       "8    4.65  11.999331  4025\n",
       "9    6.13  11.617353  5119"
      ]
     },
     "execution_count": 73,
     "metadata": {},
     "output_type": "execute_result"
    }
   ],
   "source": [
    "results2013.head(10)"
   ]
  },
  {
   "cell_type": "markdown",
   "metadata": {},
   "source": [
    "# Optimized 2018"
   ]
  },
  {
   "cell_type": "code",
   "execution_count": 43,
   "metadata": {},
   "outputs": [],
   "source": [
    "rf_optimal = RandomForestRegressor(n_estimators = 25, max_features=0.2, min_samples_leaf = 8)\n",
    "results2018 = get_regression_results(rf_optimal, X_train, X_test, y_train, y_test)\n",
    "results2018['FIPS'] = fips"
   ]
  },
  {
   "cell_type": "code",
   "execution_count": 80,
   "metadata": {},
   "outputs": [
    {
     "data": {
      "text/html": [
       "<div>\n",
       "<style scoped>\n",
       "    .dataframe tbody tr th:only-of-type {\n",
       "        vertical-align: middle;\n",
       "    }\n",
       "\n",
       "    .dataframe tbody tr th {\n",
       "        vertical-align: top;\n",
       "    }\n",
       "\n",
       "    .dataframe thead th {\n",
       "        text-align: right;\n",
       "    }\n",
       "</style>\n",
       "<table border=\"1\" class=\"dataframe\">\n",
       "  <thead>\n",
       "    <tr style=\"text-align: right;\">\n",
       "      <th></th>\n",
       "      <th>Actual</th>\n",
       "      <th>Predicted</th>\n",
       "      <th>FIPS</th>\n",
       "    </tr>\n",
       "  </thead>\n",
       "  <tbody>\n",
       "    <tr>\n",
       "      <th>0</th>\n",
       "      <td>6.42</td>\n",
       "      <td>20.485038</td>\n",
       "      <td>1003</td>\n",
       "    </tr>\n",
       "    <tr>\n",
       "      <th>1</th>\n",
       "      <td>13.18</td>\n",
       "      <td>19.863722</td>\n",
       "      <td>1043</td>\n",
       "    </tr>\n",
       "    <tr>\n",
       "      <th>2</th>\n",
       "      <td>14.63</td>\n",
       "      <td>22.763879</td>\n",
       "      <td>1055</td>\n",
       "    </tr>\n",
       "    <tr>\n",
       "      <th>3</th>\n",
       "      <td>20.63</td>\n",
       "      <td>24.826969</td>\n",
       "      <td>1073</td>\n",
       "    </tr>\n",
       "    <tr>\n",
       "      <th>4</th>\n",
       "      <td>3.00</td>\n",
       "      <td>20.720558</td>\n",
       "      <td>1089</td>\n",
       "    </tr>\n",
       "    <tr>\n",
       "      <th>5</th>\n",
       "      <td>7.98</td>\n",
       "      <td>21.485524</td>\n",
       "      <td>1097</td>\n",
       "    </tr>\n",
       "    <tr>\n",
       "      <th>6</th>\n",
       "      <td>11.76</td>\n",
       "      <td>21.689238</td>\n",
       "      <td>1103</td>\n",
       "    </tr>\n",
       "    <tr>\n",
       "      <th>7</th>\n",
       "      <td>18.04</td>\n",
       "      <td>20.145326</td>\n",
       "      <td>1115</td>\n",
       "    </tr>\n",
       "    <tr>\n",
       "      <th>8</th>\n",
       "      <td>11.13</td>\n",
       "      <td>16.324532</td>\n",
       "      <td>1117</td>\n",
       "    </tr>\n",
       "    <tr>\n",
       "      <th>9</th>\n",
       "      <td>5.74</td>\n",
       "      <td>20.545171</td>\n",
       "      <td>1125</td>\n",
       "    </tr>\n",
       "    <tr>\n",
       "      <th>10</th>\n",
       "      <td>9.60</td>\n",
       "      <td>16.859358</td>\n",
       "      <td>2020</td>\n",
       "    </tr>\n",
       "    <tr>\n",
       "      <th>11</th>\n",
       "      <td>18.79</td>\n",
       "      <td>23.347389</td>\n",
       "      <td>2122</td>\n",
       "    </tr>\n",
       "    <tr>\n",
       "      <th>12</th>\n",
       "      <td>10.22</td>\n",
       "      <td>16.850627</td>\n",
       "      <td>2170</td>\n",
       "    </tr>\n",
       "    <tr>\n",
       "      <th>13</th>\n",
       "      <td>11.83</td>\n",
       "      <td>21.148286</td>\n",
       "      <td>4003</td>\n",
       "    </tr>\n",
       "    <tr>\n",
       "      <th>14</th>\n",
       "      <td>16.10</td>\n",
       "      <td>16.244134</td>\n",
       "      <td>4005</td>\n",
       "    </tr>\n",
       "  </tbody>\n",
       "</table>\n",
       "</div>"
      ],
      "text/plain": [
       "    Actual  Predicted  FIPS\n",
       "0     6.42  20.485038  1003\n",
       "1    13.18  19.863722  1043\n",
       "2    14.63  22.763879  1055\n",
       "3    20.63  24.826969  1073\n",
       "4     3.00  20.720558  1089\n",
       "5     7.98  21.485524  1097\n",
       "6    11.76  21.689238  1103\n",
       "7    18.04  20.145326  1115\n",
       "8    11.13  16.324532  1117\n",
       "9     5.74  20.545171  1125\n",
       "10    9.60  16.859358  2020\n",
       "11   18.79  23.347389  2122\n",
       "12   10.22  16.850627  2170\n",
       "13   11.83  21.148286  4003\n",
       "14   16.10  16.244134  4005"
      ]
     },
     "execution_count": 80,
     "metadata": {},
     "output_type": "execute_result"
    }
   ],
   "source": [
    "results2018.head(15)"
   ]
  },
  {
   "cell_type": "code",
   "execution_count": null,
   "metadata": {},
   "outputs": [],
   "source": []
  }
 ],
 "metadata": {
  "kernelspec": {
   "display_name": "Python 3",
   "language": "python",
   "name": "python3"
  },
  "language_info": {
   "codemirror_mode": {
    "name": "ipython",
    "version": 3
   },
   "file_extension": ".py",
   "mimetype": "text/x-python",
   "name": "python",
   "nbconvert_exporter": "python",
   "pygments_lexer": "ipython3",
   "version": "3.7.6"
  }
 },
 "nbformat": 4,
 "nbformat_minor": 2
}
